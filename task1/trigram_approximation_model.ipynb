{
 "cells": [
  {
   "cell_type": "markdown",
   "metadata": {},
   "source": [
    "# Trigram Approximation Model\n",
    "Cleaned the text by converting to uppercase and removing unwanted characters\n",
    "\n",
    "Regex from the standard library is used extensively to clean up this code: https://docs.python.org/3/library/re.html"
   ]
  },
  {
   "cell_type": "code",
   "execution_count": 6,
   "metadata": {},
   "outputs": [
    {
     "name": "stdout",
     "output_type": "stream",
     "text": [
      "IT IS WHAT IT IS. AN EXAMPLE SENTENCE \n"
     ]
    }
   ],
   "source": [
    "import re\n",
    "from collections import defaultdict\n",
    "\n",
    "def clean_text(text):\n",
    "# Clean the text by converting to uppercase and removing unwanted characters\n",
    "    cleaned_text = re.sub(r'[^A-Z. ]', '', text.upper())\n",
    "    return cleaned_text\n",
    "\n",
    "# Debugging\n",
    "sample_text = \"It is what it is. An example sentence! 123\"\n",
    "cleaned_text = clean_text(sample_text)\n",
    "print(cleaned_text)  # Output: 'IT IS WHAT IT IS. AN EXAMPLE SENTENCE'"
   ]
  },
  {
   "cell_type": "markdown",
   "metadata": {},
   "source": [
    "# Built trigram model by counting occurrences of three-character sequences\n",
    "\n",
    "I went with a defaultdict for my data structure. Whenever a new trigram is found, it’s automatically set to zero and then incremented over. This keeps things simple and effective, and avoids the need to move through the trigrams (to check if they're already present) because they'll be greater than 0.\n",
    "\n",
    "DefaultDict from Collections: https://docs.python.org/3/library/collections.html"
   ]
  },
  {
   "cell_type": "code",
   "execution_count": 7,
   "metadata": {},
   "outputs": [
    {
     "name": "stdout",
     "output_type": "stream",
     "text": [
      "IT : 2\n",
      "T I: 3\n",
      " IS: 2\n",
      "IS : 1\n",
      "S W: 1\n",
      " WH: 1\n",
      "WHA: 1\n",
      "HAT: 1\n",
      "AT : 1\n",
      " IT: 1\n",
      "IS.: 1\n"
     ]
    }
   ],
   "source": [
    "def build_trigram_model(text):\n",
    "    model = defaultdict(int)\n",
    "    for i in range(len(text) - 2):\n",
    "        model[text[i:i+3]] += 1\n",
    "    return model\n",
    "\n",
    "# Debugging\n",
    "text = \"IT IS WHAT IT IS.\"\n",
    "cleaned_text = clean_text(text)\n",
    "trigram_model = build_trigram_model(cleaned_text)\n",
    "\n",
    "# Display the trigram model\n",
    "for trigram, count in trigram_model.items():\n",
    "    print(f\"{trigram}: {count}\")"
   ]
  }
 ],
 "metadata": {
  "kernelspec": {
   "display_name": "Python 3",
   "language": "python",
   "name": "python3"
  },
  "language_info": {
   "codemirror_mode": {
    "name": "ipython",
    "version": 3
   },
   "file_extension": ".py",
   "mimetype": "text/x-python",
   "name": "python",
   "nbconvert_exporter": "python",
   "pygments_lexer": "ipython3",
   "version": "3.12.1"
  }
 },
 "nbformat": 4,
 "nbformat_minor": 2
}
