{
 "cells": [
  {
   "cell_type": "markdown",
   "metadata": {},
   "source": [
    "# Trigram Approximation Model\n",
    "Clean the text by converting to uppercase and removing unwanted characters\n",
    "\n",
    "Regex from the standard library is used extensively to clean up this code: https://docs.python.org/3/library/re.html"
   ]
  },
  {
   "cell_type": "code",
   "execution_count": 1,
   "metadata": {},
   "outputs": [
    {
     "name": "stdout",
     "output_type": "stream",
     "text": [
      "IT IS WHAT IT IS. AN EXAMPLE SENTENCE \n"
     ]
    }
   ],
   "source": [
    "import re\n",
    "\n",
    "def clean_text(text):\n",
    "# Clean the text by converting to uppercase and removing unwanted characters\n",
    "    cleaned_text = re.sub(r'[^A-Z. ]', '', text.upper())\n",
    "    return cleaned_text\n",
    "\n",
    "# Debugging\n",
    "sample_text = \"It is what it is. An example sentence! 123\"\n",
    "cleaned_text = clean_text(sample_text)\n",
    "print(cleaned_text)  # Output: 'IT IS WHAT IT IS. AN EXAMPLE SENTENCE'"
   ]
  }
 ],
 "metadata": {
  "kernelspec": {
   "display_name": "Python 3",
   "language": "python",
   "name": "python3"
  },
  "language_info": {
   "codemirror_mode": {
    "name": "ipython",
    "version": 3
   },
   "file_extension": ".py",
   "mimetype": "text/x-python",
   "name": "python",
   "nbconvert_exporter": "python",
   "pygments_lexer": "ipython3",
   "version": "3.12.1"
  }
 },
 "nbformat": 4,
 "nbformat_minor": 2
}
